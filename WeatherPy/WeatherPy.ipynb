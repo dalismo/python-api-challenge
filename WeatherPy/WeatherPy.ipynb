{
 "cells": [
  {
   "cell_type": "markdown",
   "metadata": {},
   "source": [
    "# WeatherPy\n",
    "----\n",
    "\n",
    "#### Note\n",
    "* Instructions have been included for each segment. You do not have to follow them exactly, but they are included to help you think through the steps."
   ]
  },
  {
   "cell_type": "code",
   "execution_count": 5,
   "metadata": {
    "scrolled": true
   },
   "outputs": [],
   "source": [
    "# Dependencies and Setup\n",
    "import matplotlib.pyplot as plt\n",
    "import pandas as pd\n",
    "import numpy as np\n",
    "import requests\n",
    "import time\n",
    "from scipy.stats import linregress\n",
    "\n",
    "\n",
    "# Import API key\n",
    "from api_keys import weather_api_key\n",
    "api_key = weather_api_key\n",
    "\n",
    "# Define units of measurement for temp\n",
    "temp_units = \"imperial\"\n",
    "\n",
    "# Citipy used to determine city based on latitude and longitude\n",
    "from citipy import citipy\n",
    "\n",
    "# Output File (CSV)\n",
    "cities_file = \"cities.csv\"\n",
    "cities_new = pd.read_csv(cities_file)\n",
    "cities_new.head(10)\n",
    "\n",
    "url = f\"http://api.openweathermap.org/data/2.5/weather?appid={api_key}&units={temp_units}&q=\"\n",
    "\n",
    "# Range of latitudes and longitudes\n",
    "lat_range = (-90, 90)\n",
    "lng_range = (-180, 180)"
   ]
  },
  {
   "cell_type": "markdown",
   "metadata": {},
   "source": [
    "## Generate Cities List"
   ]
  },
  {
   "cell_type": "code",
   "execution_count": 6,
   "metadata": {},
   "outputs": [
    {
     "data": {
      "text/plain": [
       "'tasiilaq'"
      ]
     },
     "execution_count": 6,
     "metadata": {},
     "output_type": "execute_result"
    }
   ],
   "source": [
    "# List for holding lat_lngs and cities\n",
    "lat_lngs = []\n",
    "cities = []\n",
    "\n",
    "# Create a set of random lat and lng combinations\n",
    "lats = np.random.uniform(lat_range[0], lat_range[1], size=1500)\n",
    "lngs = np.random.uniform(lng_range[0], lng_range[1], size=1500)\n",
    "lat_lngs = zip(lats, lngs)\n",
    "\n",
    "# Identify nearest city for each lat, lng combination\n",
    "for lat_lng in lat_lngs:\n",
    "    city = citipy.nearest_city(lat_lng[0], lat_lng[1]).city_name\n",
    "    \n",
    "    # If the city is unique, then add it to a our cities list\n",
    "    if city not in cities:\n",
    "        cities.append(city)\n",
    "\n",
    "# Print the city count to confirm sufficient count\n",
    "len(cities)\n",
    "cities[0]"
   ]
  },
  {
   "cell_type": "markdown",
   "metadata": {},
   "source": [
    "### Perform API Calls\n",
    "* Perform a weather check on each city using a series of successive API calls.\n",
    "* Include a print log of each city as it'sbeing processed (with the city number and city name).\n"
   ]
  },
  {
   "cell_type": "code",
   "execution_count": 7,
   "metadata": {
    "scrolled": true
   },
   "outputs": [],
   "source": [
    "# Lists for new dataframe\n",
    "City_one = []\n",
    "Cloudiness = []\n",
    "Date = []\n",
    "Humidity = []\n",
    "Lat = []\n",
    "Lng = []\n",
    "Max_Temp = []\n",
    "Wind_Speed = []\n",
    "Country = []\n",
    "\n",
    "# Setting the count\n",
    "count_one = 0\n",
    "set_one = 1\n",
    "\n",
    "# City_API_endpoint = \"http://api.openweathermap.org/data/2.5/weather?q=\"\n",
    "# City = \"Nairobi\"\n",
    "# Country = \",KE,\"\n",
    "# join_key = \"&appid=\" + \"24a28e84879c0723de4182ce4313653b\"\n",
    "# units = \"&units=metric\"\n",
    "\n",
    "# current_city_weather = City_API_endpoint + City + Country + join_key + units\n",
    "# print(current_city_weather)\n",
    "      \n",
    "# Looping through the data\n",
    "#for city in cities:\n",
    "    \n"
   ]
  },
  {
   "cell_type": "code",
   "execution_count": 8,
   "metadata": {
    "scrolled": false
   },
   "outputs": [
    {
     "name": "stdout",
     "output_type": "stream",
     "text": [
      "Beginning Data Retrieval\n",
      "-------------------------------\n",
      "Processing Record 1 of Set 1 | tasiilaq\n",
      "Processing Record 2 of Set 1 | mount gambier\n",
      "Processing Record 3 of Set 1 | alice springs\n",
      "Processing Record 4 of Set 1 | cidreira\n",
      "Processing Record 5 of Set 1 | beringovskiy\n",
      "Processing Record 6 of Set 1 | yellowknife\n",
      "Processing Record 7 of Set 1 | atuona\n",
      "Processing Record 8 of Set 1 | ponta delgada\n",
      "City not found. Skipping...\n",
      "Processing Record 9 of Set 1 | baghmara\n",
      "Processing Record 10 of Set 1 | cape town\n",
      "Processing Record 11 of Set 1 | tura\n",
      "Processing Record 12 of Set 1 | poum\n",
      "Processing Record 13 of Set 1 | shelburne\n",
      "Processing Record 14 of Set 1 | bengkulu\n",
      "Processing Record 15 of Set 1 | ushuaia\n",
      "Processing Record 16 of Set 1 | avarua\n",
      "Processing Record 17 of Set 1 | oyon\n",
      "Processing Record 18 of Set 1 | rikitea\n",
      "Processing Record 19 of Set 1 | kavaratti\n",
      "Processing Record 20 of Set 1 | castro\n",
      "Processing Record 21 of Set 1 | chake chake\n",
      "Processing Record 22 of Set 1 | amapa\n",
      "Processing Record 23 of Set 1 | cayenne\n",
      "Processing Record 24 of Set 1 | baruun-urt\n",
      "Processing Record 25 of Set 1 | catamarca\n",
      "Processing Record 26 of Set 1 | norden\n",
      "Processing Record 27 of Set 1 | patna\n",
      "Processing Record 28 of Set 1 | provideniya\n",
      "Processing Record 29 of Set 1 | bredasdorp\n",
      "Processing Record 30 of Set 1 | houma\n",
      "Processing Record 31 of Set 1 | mar del plata\n",
      "Processing Record 32 of Set 1 | paita\n",
      "Processing Record 33 of Set 1 | yertsevo\n",
      "Processing Record 34 of Set 1 | gotsu\n",
      "Processing Record 35 of Set 1 | fairbanks\n",
      "Processing Record 36 of Set 1 | luderitz\n",
      "Processing Record 37 of Set 1 | mataura\n",
      "City not found. Skipping...\n",
      "Processing Record 38 of Set 1 | kapaa\n",
      "Processing Record 39 of Set 1 | san rafael\n",
      "Processing Record 40 of Set 1 | saskylakh\n",
      "Processing Record 41 of Set 1 | jamestown\n",
      "Processing Record 42 of Set 1 | talnakh\n",
      "Processing Record 43 of Set 1 | san francisco del mar\n",
      "Processing Record 44 of Set 1 | arraial do cabo\n",
      "Processing Record 45 of Set 1 | punta arenas\n",
      "Processing Record 46 of Set 1 | east london\n",
      "City not found. Skipping...\n",
      "City not found. Skipping...\n",
      "Processing Record 47 of Set 1 | butaritari\n",
      "City not found. Skipping...\n",
      "Processing Record 48 of Set 1 | ughelli\n",
      "Processing Record 49 of Set 1 | laguna\n",
      "City not found. Skipping...\n",
      "Processing Record 1 of Set 2 | grand river south east\n",
      "Processing Record 2 of Set 2 | abu samrah\n",
      "Processing Record 3 of Set 2 | maceio\n",
      "Processing Record 4 of Set 2 | vila\n",
      "Processing Record 5 of Set 2 | sao mateus\n",
      "Processing Record 6 of Set 2 | codrington\n",
      "Processing Record 7 of Set 2 | jiazi\n",
      "City not found. Skipping...\n",
      "Processing Record 8 of Set 2 | port alfred\n",
      "Processing Record 9 of Set 2 | arman\n",
      "Processing Record 10 of Set 2 | vao\n",
      "Processing Record 11 of Set 2 | vaini\n",
      "Processing Record 12 of Set 2 | saint-philippe\n",
      "Processing Record 13 of Set 2 | sabang\n",
      "Processing Record 14 of Set 2 | hobart\n",
      "Processing Record 15 of Set 2 | hermanus\n",
      "Processing Record 16 of Set 2 | albany\n",
      "Processing Record 17 of Set 2 | saint-gaudens\n",
      "Processing Record 18 of Set 2 | kamir\n",
      "Processing Record 19 of Set 2 | hit\n",
      "Processing Record 20 of Set 2 | bluff\n",
      "Processing Record 21 of Set 2 | cassilandia\n",
      "Processing Record 22 of Set 2 | puri\n",
      "Processing Record 23 of Set 2 | belmonte\n",
      "Processing Record 24 of Set 2 | saldanha\n",
      "Processing Record 25 of Set 2 | khatanga\n",
      "Processing Record 26 of Set 2 | winburg\n",
      "Processing Record 27 of Set 2 | nuoro\n",
      "City not found. Skipping...\n",
      "Processing Record 28 of Set 2 | warrnambool\n",
      "Processing Record 29 of Set 2 | georgetown\n",
      "Processing Record 30 of Set 2 | keti bandar\n",
      "Processing Record 31 of Set 2 | san patricio\n",
      "Processing Record 32 of Set 2 | heihe\n",
      "Processing Record 33 of Set 2 | goma\n",
      "Processing Record 34 of Set 2 | west bay\n",
      "Processing Record 35 of Set 2 | busselton\n",
      "Processing Record 36 of Set 2 | dubna\n",
      "Processing Record 37 of Set 2 | yingkou\n",
      "Processing Record 38 of Set 2 | hilo\n",
      "Processing Record 39 of Set 2 | nikolskoye\n",
      "Processing Record 40 of Set 2 | katangli\n",
      "Processing Record 41 of Set 2 | tam ky\n",
      "Processing Record 42 of Set 2 | new norfolk\n",
      "Processing Record 43 of Set 2 | hithadhoo\n",
      "Processing Record 44 of Set 2 | krasnoselkup\n",
      "Processing Record 45 of Set 2 | kirakira\n",
      "Processing Record 46 of Set 2 | airai\n",
      "Processing Record 47 of Set 2 | taoudenni\n",
      "Processing Record 48 of Set 2 | tabursuq\n",
      "City not found. Skipping...\n",
      "Processing Record 49 of Set 2 | constitucion\n",
      "Processing Record 1 of Set 3 | tucuma\n",
      "Processing Record 2 of Set 3 | nanortalik\n",
      "Processing Record 3 of Set 3 | lebu\n",
      "Processing Record 4 of Set 3 | saint-pierre\n",
      "Processing Record 5 of Set 3 | mitsamiouli\n",
      "City not found. Skipping...\n",
      "Processing Record 6 of Set 3 | araouane\n",
      "Processing Record 7 of Set 3 | hambantota\n",
      "Processing Record 8 of Set 3 | carnarvon\n",
      "City not found. Skipping...\n",
      "Processing Record 9 of Set 3 | chokurdakh\n",
      "Processing Record 10 of Set 3 | norman wells\n",
      "Processing Record 11 of Set 3 | qandala\n",
      "Processing Record 12 of Set 3 | puerto ayora\n",
      "Processing Record 13 of Set 3 | guerrero negro\n",
      "Processing Record 14 of Set 3 | port macquarie\n",
      "Processing Record 15 of Set 3 | thompson\n",
      "City not found. Skipping...\n",
      "Processing Record 16 of Set 3 | chipata\n",
      "Processing Record 17 of Set 3 | teya\n",
      "City not found. Skipping...\n",
      "Processing Record 18 of Set 3 | evensk\n",
      "Processing Record 19 of Set 3 | batticaloa\n",
      "Processing Record 20 of Set 3 | bambous virieux\n",
      "Processing Record 21 of Set 3 | helong\n",
      "Processing Record 22 of Set 3 | khasan\n",
      "Processing Record 23 of Set 3 | nosy varika\n",
      "Processing Record 24 of Set 3 | porto seguro\n",
      "Processing Record 25 of Set 3 | okahandja\n",
      "Processing Record 26 of Set 3 | parauna\n",
      "Processing Record 27 of Set 3 | severo-kurilsk\n",
      "Processing Record 28 of Set 3 | hofn\n",
      "Processing Record 29 of Set 3 | richards bay\n",
      "Processing Record 30 of Set 3 | padang\n",
      "Processing Record 31 of Set 3 | villa de reyes\n",
      "Processing Record 32 of Set 3 | neuquen\n",
      "Processing Record 33 of Set 3 | dikson\n",
      "Processing Record 34 of Set 3 | galle\n",
      "Processing Record 35 of Set 3 | katsuura\n",
      "Processing Record 36 of Set 3 | adrar\n",
      "Processing Record 37 of Set 3 | haines junction\n",
      "Processing Record 38 of Set 3 | novoplatnirovskaya\n",
      "Processing Record 39 of Set 3 | capoeiras\n",
      "Processing Record 40 of Set 3 | torbay\n",
      "Processing Record 41 of Set 3 | kiunga\n",
      "Processing Record 42 of Set 3 | san rafael del sur\n",
      "Processing Record 43 of Set 3 | bestobe\n",
      "Processing Record 44 of Set 3 | makakilo city\n",
      "Processing Record 45 of Set 3 | chillicothe\n",
      "Processing Record 46 of Set 3 | sistranda\n",
      "Processing Record 47 of Set 3 | biak\n",
      "Processing Record 48 of Set 3 | rosiori de vede\n",
      "City not found. Skipping...\n",
      "Processing Record 49 of Set 3 | saint-honore\n",
      "Processing Record 1 of Set 4 | vilyuysk\n",
      "Processing Record 2 of Set 4 | romny\n",
      "Processing Record 3 of Set 4 | sitka\n",
      "Processing Record 4 of Set 4 | hoopstad\n",
      "Processing Record 5 of Set 4 | ribeira grande\n",
      "Processing Record 6 of Set 4 | arica\n",
      "Processing Record 7 of Set 4 | santo antonio do ica\n",
      "Processing Record 8 of Set 4 | caravelas\n",
      "City not found. Skipping...\n",
      "Processing Record 9 of Set 4 | dunedin\n",
      "Processing Record 10 of Set 4 | kalemie\n",
      "Processing Record 11 of Set 4 | pontianak\n",
      "Processing Record 12 of Set 4 | marfino\n",
      "Processing Record 13 of Set 4 | lagoa\n",
      "Processing Record 14 of Set 4 | tazovskiy\n",
      "Processing Record 15 of Set 4 | kalmar\n",
      "Processing Record 16 of Set 4 | bilibino\n",
      "City not found. Skipping...\n",
      "Processing Record 17 of Set 4 | husavik\n",
      "Processing Record 18 of Set 4 | kirundo\n",
      "Processing Record 19 of Set 4 | lebane\n",
      "Processing Record 20 of Set 4 | mehamn\n",
      "Processing Record 21 of Set 4 | princeton\n",
      "Processing Record 22 of Set 4 | lewiston\n",
      "Processing Record 23 of Set 4 | boa vista\n",
      "Processing Record 24 of Set 4 | verkhnevilyuysk\n",
      "Processing Record 25 of Set 4 | sambava\n",
      "Processing Record 26 of Set 4 | ust-nera\n",
      "Processing Record 27 of Set 4 | ramganj\n",
      "Processing Record 28 of Set 4 | ilulissat\n",
      "Processing Record 29 of Set 4 | sorong\n",
      "Processing Record 30 of Set 4 | northam\n",
      "Processing Record 31 of Set 4 | pontarlier\n",
      "Processing Record 32 of Set 4 | marsaxlokk\n",
      "Processing Record 33 of Set 4 | shihezi\n",
      "Processing Record 34 of Set 4 | tuatapere\n",
      "City not found. Skipping...\n",
      "Processing Record 35 of Set 4 | wellington\n",
      "Processing Record 36 of Set 4 | sao filipe\n",
      "Processing Record 37 of Set 4 | kumhari\n",
      "Processing Record 38 of Set 4 | longyearbyen\n"
     ]
    },
    {
     "name": "stdout",
     "output_type": "stream",
     "text": [
      "Processing Record 39 of Set 4 | fort morgan\n",
      "Processing Record 40 of Set 4 | lac-megantic\n",
      "Processing Record 41 of Set 4 | bethanien\n",
      "Processing Record 42 of Set 4 | mogadishu\n",
      "Processing Record 43 of Set 4 | novyy buyan\n",
      "Processing Record 44 of Set 4 | victoria\n",
      "Processing Record 45 of Set 4 | dobson\n",
      "Processing Record 46 of Set 4 | papara\n",
      "Processing Record 47 of Set 4 | changtu\n",
      "Processing Record 48 of Set 4 | qaanaaq\n",
      "Processing Record 49 of Set 4 | klyuchi\n",
      "Processing Record 1 of Set 5 | imeni poliny osipenko\n",
      "Processing Record 2 of Set 5 | nicoya\n",
      "Processing Record 3 of Set 5 | roebourne\n",
      "Processing Record 4 of Set 5 | nuuk\n",
      "Processing Record 5 of Set 5 | tuktoyaktuk\n",
      "Processing Record 6 of Set 5 | manadhoo\n",
      "Processing Record 7 of Set 5 | lompoc\n",
      "Processing Record 8 of Set 5 | rundu\n",
      "Processing Record 9 of Set 5 | bantry\n",
      "Processing Record 10 of Set 5 | svetlyy\n",
      "City not found. Skipping...\n",
      "Processing Record 11 of Set 5 | safford\n",
      "Processing Record 12 of Set 5 | cervo\n",
      "Processing Record 13 of Set 5 | ossora\n",
      "Processing Record 14 of Set 5 | natal\n",
      "Processing Record 15 of Set 5 | leningradskiy\n",
      "Processing Record 16 of Set 5 | coquimbo\n",
      "Processing Record 17 of Set 5 | shillong\n",
      "Processing Record 18 of Set 5 | srandakan\n",
      "Processing Record 19 of Set 5 | milkovo\n",
      "Processing Record 20 of Set 5 | upernavik\n",
      "Processing Record 21 of Set 5 | torres\n",
      "City not found. Skipping...\n",
      "Processing Record 22 of Set 5 | abu zabad\n",
      "Processing Record 23 of Set 5 | dondo\n",
      "Processing Record 24 of Set 5 | palimbang\n",
      "Processing Record 25 of Set 5 | waingapu\n",
      "Processing Record 26 of Set 5 | gushikawa\n",
      "City not found. Skipping...\n",
      "City not found. Skipping...\n",
      "City not found. Skipping...\n",
      "Processing Record 27 of Set 5 | barrow\n",
      "Processing Record 28 of Set 5 | panzhihua\n",
      "Processing Record 29 of Set 5 | arlit\n",
      "Processing Record 30 of Set 5 | awjilah\n",
      "Processing Record 31 of Set 5 | fortuna\n",
      "City not found. Skipping...\n",
      "Processing Record 32 of Set 5 | lata\n",
      "City not found. Skipping...\n",
      "Processing Record 33 of Set 5 | ishigaki\n",
      "Processing Record 34 of Set 5 | maniitsoq\n",
      "Processing Record 35 of Set 5 | cabo san lucas\n",
      "Processing Record 36 of Set 5 | novyy urengoy\n",
      "Processing Record 37 of Set 5 | margate\n",
      "Processing Record 38 of Set 5 | saint-augustin\n",
      "Processing Record 39 of Set 5 | tevriz\n",
      "Processing Record 40 of Set 5 | cotonou\n",
      "Processing Record 41 of Set 5 | izumo\n",
      "Processing Record 42 of Set 5 | coahuayana\n",
      "Processing Record 43 of Set 5 | port hedland\n",
      "Processing Record 44 of Set 5 | kaitangata\n",
      "Processing Record 45 of Set 5 | souillac\n",
      "Processing Record 46 of Set 5 | basco\n",
      "City not found. Skipping...\n",
      "Processing Record 47 of Set 5 | topeka\n",
      "City not found. Skipping...\n",
      "Processing Record 48 of Set 5 | mount holly\n",
      "Processing Record 49 of Set 5 | rocha\n",
      "Processing Record 1 of Set 6 | molina\n",
      "Processing Record 2 of Set 6 | grafing\n",
      "Processing Record 3 of Set 6 | cortez\n",
      "Processing Record 4 of Set 6 | shingu\n",
      "Processing Record 5 of Set 6 | togitsu\n",
      "Processing Record 6 of Set 6 | hay river\n",
      "Processing Record 7 of Set 6 | kedougou\n",
      "Processing Record 8 of Set 6 | gat\n",
      "Processing Record 9 of Set 6 | ganzhou\n",
      "Processing Record 10 of Set 6 | rio grande\n",
      "Processing Record 11 of Set 6 | namatanai\n",
      "Processing Record 12 of Set 6 | port elizabeth\n",
      "Processing Record 13 of Set 6 | cedar city\n",
      "Processing Record 14 of Set 6 | zachary\n",
      "Processing Record 15 of Set 6 | abbeville\n",
      "Processing Record 16 of Set 6 | grindavik\n",
      "Processing Record 17 of Set 6 | buta\n",
      "Processing Record 18 of Set 6 | kismayo\n",
      "Processing Record 19 of Set 6 | tongzi\n",
      "Processing Record 20 of Set 6 | murgab\n",
      "Processing Record 21 of Set 6 | champerico\n",
      "Processing Record 22 of Set 6 | westport\n",
      "Processing Record 23 of Set 6 | belaya gora\n",
      "Processing Record 24 of Set 6 | nhulunbuy\n",
      "Processing Record 25 of Set 6 | zhezkazgan\n",
      "Processing Record 26 of Set 6 | ponta do sol\n",
      "Processing Record 27 of Set 6 | himatnagar\n",
      "Processing Record 28 of Set 6 | cherskiy\n",
      "Processing Record 29 of Set 6 | carson city\n",
      "Processing Record 30 of Set 6 | chuy\n",
      "Processing Record 31 of Set 6 | cabras\n",
      "Processing Record 32 of Set 6 | isangel\n",
      "Processing Record 33 of Set 6 | lavrentiya\n",
      "City not found. Skipping...\n",
      "Processing Record 34 of Set 6 | hobyo\n",
      "Processing Record 35 of Set 6 | hasaki\n",
      "Processing Record 36 of Set 6 | kultuk\n",
      "Processing Record 37 of Set 6 | nome\n",
      "Processing Record 38 of Set 6 | nara\n",
      "Processing Record 39 of Set 6 | yulara\n",
      "Processing Record 40 of Set 6 | krasnorechenskiy\n",
      "City not found. Skipping...\n",
      "City not found. Skipping...\n",
      "Processing Record 41 of Set 6 | nemuro\n",
      "Processing Record 42 of Set 6 | ambilobe\n",
      "Processing Record 43 of Set 6 | vostok\n",
      "Processing Record 44 of Set 6 | iquitos\n",
      "Processing Record 45 of Set 6 | fort saint john\n",
      "Processing Record 46 of Set 6 | asau\n",
      "Processing Record 47 of Set 6 | myitkyina\n",
      "Processing Record 48 of Set 6 | siniscola\n",
      "Processing Record 49 of Set 6 | beloha\n",
      "Processing Record 1 of Set 7 | aykhal\n",
      "Processing Record 2 of Set 7 | port hawkesbury\n",
      "Processing Record 3 of Set 7 | sao felix do xingu\n",
      "Processing Record 4 of Set 7 | bemidji\n",
      "Processing Record 5 of Set 7 | pisco\n",
      "Processing Record 6 of Set 7 | fairlie\n",
      "Processing Record 7 of Set 7 | bwanga\n",
      "Processing Record 8 of Set 7 | bethel\n",
      "Processing Record 9 of Set 7 | yeppoon\n",
      "Processing Record 10 of Set 7 | mayumba\n",
      "Processing Record 11 of Set 7 | soubre\n",
      "City not found. Skipping...\n",
      "Processing Record 12 of Set 7 | ayan\n",
      "City not found. Skipping...\n",
      "Processing Record 13 of Set 7 | awbari\n",
      "Processing Record 14 of Set 7 | makokou\n",
      "Processing Record 15 of Set 7 | mys shmidta\n",
      "Processing Record 16 of Set 7 | svetlaya\n",
      "Processing Record 17 of Set 7 | aasiaat\n",
      "Processing Record 18 of Set 7 | sao joao da barra\n",
      "Processing Record 19 of Set 7 | chara\n",
      "City not found. Skipping...\n",
      "Processing Record 20 of Set 7 | coihaique\n",
      "Processing Record 21 of Set 7 | kloulklubed\n",
      "Processing Record 22 of Set 7 | baculin\n",
      "Processing Record 23 of Set 7 | cacador\n",
      "Processing Record 24 of Set 7 | narimanov\n",
      "Processing Record 25 of Set 7 | mbaiki\n",
      "Processing Record 26 of Set 7 | nelson bay\n",
      "Processing Record 27 of Set 7 | caibarien\n",
      "Processing Record 28 of Set 7 | moa\n",
      "Processing Record 29 of Set 7 | uvinza\n",
      "Processing Record 30 of Set 7 | zhigansk\n",
      "Processing Record 31 of Set 7 | acajutla\n",
      "Processing Record 32 of Set 7 | gilbues\n",
      "Processing Record 33 of Set 7 | kununurra\n",
      "Processing Record 34 of Set 7 | blythe\n",
      "Processing Record 35 of Set 7 | hamilton\n",
      "Processing Record 36 of Set 7 | iacu\n",
      "Processing Record 37 of Set 7 | meadow lake\n",
      "Processing Record 38 of Set 7 | iqaluit\n",
      "Processing Record 39 of Set 7 | lazaro cardenas\n",
      "Processing Record 40 of Set 7 | rafaela\n",
      "Processing Record 41 of Set 7 | ferkessedougou\n",
      "Processing Record 42 of Set 7 | faanui\n",
      "Processing Record 43 of Set 7 | alofi\n",
      "City not found. Skipping...\n",
      "Processing Record 44 of Set 7 | baoshan\n",
      "Processing Record 45 of Set 7 | port blair\n",
      "Processing Record 46 of Set 7 | kavieng\n",
      "Processing Record 47 of Set 7 | jumla\n",
      "Processing Record 48 of Set 7 | aloleng\n",
      "Processing Record 49 of Set 7 | mnogovershinnyy\n",
      "Processing Record 1 of Set 8 | terrace\n",
      "Processing Record 2 of Set 8 | tumpat\n",
      "Processing Record 3 of Set 8 | ikom\n",
      "City not found. Skipping...\n",
      "Processing Record 4 of Set 8 | bathsheba\n",
      "City not found. Skipping...\n",
      "Processing Record 5 of Set 8 | college\n",
      "Processing Record 6 of Set 8 | union\n",
      "Processing Record 7 of Set 8 | mahon\n",
      "Processing Record 8 of Set 8 | rioblanco\n",
      "Processing Record 9 of Set 8 | vangaindrano\n",
      "Processing Record 10 of Set 8 | kodiak\n",
      "Processing Record 11 of Set 8 | taiping\n",
      "Processing Record 12 of Set 8 | petropavlovsk-kamchatskiy\n",
      "Processing Record 13 of Set 8 | vila velha\n",
      "Processing Record 14 of Set 8 | aksu\n",
      "Processing Record 15 of Set 8 | antalaha\n",
      "Processing Record 16 of Set 8 | yaviza\n",
      "Processing Record 17 of Set 8 | bandarbeyla\n",
      "Processing Record 18 of Set 8 | baykit\n",
      "City not found. Skipping...\n",
      "Processing Record 19 of Set 8 | waling\n",
      "Processing Record 20 of Set 8 | rosarito\n",
      "Processing Record 21 of Set 8 | vardo\n",
      "Processing Record 22 of Set 8 | bozhou\n",
      "Processing Record 23 of Set 8 | port lincoln\n",
      "Processing Record 24 of Set 8 | reconquista\n",
      "Processing Record 25 of Set 8 | ranau\n",
      "Processing Record 26 of Set 8 | posse\n",
      "Processing Record 27 of Set 8 | aripuana\n",
      "Processing Record 28 of Set 8 | ilhabela\n",
      "Processing Record 29 of Set 8 | bonavista\n",
      "Processing Record 30 of Set 8 | novodolinskiy\n"
     ]
    },
    {
     "name": "stdout",
     "output_type": "stream",
     "text": [
      "Processing Record 31 of Set 8 | susangerd\n",
      "Processing Record 32 of Set 8 | sorland\n",
      "Processing Record 33 of Set 8 | saveh\n",
      "Processing Record 34 of Set 8 | mookane\n",
      "Processing Record 35 of Set 8 | dhidhdhoo\n",
      "Processing Record 36 of Set 8 | nizhniy kuranakh\n",
      "City not found. Skipping...\n",
      "Processing Record 37 of Set 8 | maraa\n",
      "Processing Record 38 of Set 8 | krasnoufimsk\n",
      "Processing Record 39 of Set 8 | nyuksenitsa\n",
      "Processing Record 40 of Set 8 | lamesa\n",
      "Processing Record 41 of Set 8 | ancud\n",
      "Processing Record 42 of Set 8 | touros\n",
      "Processing Record 43 of Set 8 | cornwall\n",
      "Processing Record 44 of Set 8 | qingquan\n",
      "Processing Record 45 of Set 8 | puerto del rosario\n",
      "Processing Record 46 of Set 8 | olinda\n",
      "Processing Record 47 of Set 8 | namibe\n",
      "Processing Record 48 of Set 8 | port hardy\n",
      "Processing Record 49 of Set 8 | tamandare\n",
      "Processing Record 1 of Set 9 | galesong\n",
      "Processing Record 2 of Set 9 | komsomolskiy\n",
      "Processing Record 3 of Set 9 | clyde river\n",
      "Processing Record 4 of Set 9 | inhambane\n",
      "Processing Record 5 of Set 9 | half moon bay\n",
      "Processing Record 6 of Set 9 | gamba\n",
      "Processing Record 7 of Set 9 | vredendal\n",
      "Processing Record 8 of Set 9 | lianzhou\n",
      "Processing Record 9 of Set 9 | saravan\n",
      "Processing Record 10 of Set 9 | vestmanna\n",
      "Processing Record 11 of Set 9 | kaputa\n",
      "Processing Record 12 of Set 9 | ulladulla\n",
      "Processing Record 13 of Set 9 | horconcitos\n",
      "Processing Record 14 of Set 9 | maine-soroa\n",
      "City not found. Skipping...\n",
      "Processing Record 15 of Set 9 | rawson\n",
      "Processing Record 16 of Set 9 | uvat\n",
      "Processing Record 17 of Set 9 | roald\n",
      "Processing Record 18 of Set 9 | sibolga\n",
      "Processing Record 19 of Set 9 | ulaangom\n",
      "Processing Record 20 of Set 9 | policoro\n",
      "Processing Record 21 of Set 9 | cordoba\n",
      "Processing Record 22 of Set 9 | monte san giovanni campano\n",
      "Processing Record 23 of Set 9 | kovur\n",
      "Processing Record 24 of Set 9 | lichuan\n",
      "Processing Record 25 of Set 9 | uddevalla\n",
      "Processing Record 26 of Set 9 | krasnoborsk\n",
      "Processing Record 27 of Set 9 | harper\n",
      "Processing Record 28 of Set 9 | vuktyl\n",
      "Processing Record 29 of Set 9 | rio gallegos\n",
      "Processing Record 30 of Set 9 | zyryanka\n",
      "Processing Record 31 of Set 9 | lubu\n",
      "Processing Record 32 of Set 9 | broome\n",
      "Processing Record 33 of Set 9 | razdolinsk\n",
      "Processing Record 34 of Set 9 | honiara\n",
      "Processing Record 35 of Set 9 | purpe\n",
      "Processing Record 36 of Set 9 | plettenberg bay\n",
      "Processing Record 37 of Set 9 | tucuman\n",
      "Processing Record 38 of Set 9 | qianguo\n",
      "Processing Record 39 of Set 9 | narsaq\n",
      "Processing Record 40 of Set 9 | pierre\n",
      "Processing Record 41 of Set 9 | bud\n",
      "Processing Record 42 of Set 9 | santa teresa\n",
      "Processing Record 43 of Set 9 | misasi\n",
      "Processing Record 44 of Set 9 | hirara\n",
      "City not found. Skipping...\n",
      "Processing Record 45 of Set 9 | fayaoue\n",
      "Processing Record 46 of Set 9 | mount isa\n",
      "Processing Record 47 of Set 9 | kamenka\n",
      "Processing Record 48 of Set 9 | kahului\n",
      "Processing Record 49 of Set 9 | bosaso\n",
      "Processing Record 1 of Set 10 | niquero\n",
      "Processing Record 2 of Set 10 | tiksi\n",
      "Processing Record 3 of Set 10 | chapais\n",
      "Processing Record 4 of Set 10 | roseau\n",
      "City not found. Skipping...\n",
      "Processing Record 5 of Set 10 | dossor\n",
      "Processing Record 6 of Set 10 | mackay\n",
      "Processing Record 7 of Set 10 | geraldton\n",
      "Processing Record 8 of Set 10 | talcahuano\n",
      "Processing Record 9 of Set 10 | skowhegan\n",
      "Processing Record 10 of Set 10 | bambanglipuro\n",
      "Processing Record 11 of Set 10 | strezhevoy\n",
      "City not found. Skipping...\n",
      "Processing Record 12 of Set 10 | puerto narino\n",
      "Processing Record 13 of Set 10 | nuzvid\n",
      "Processing Record 14 of Set 10 | micheweni\n",
      "Processing Record 15 of Set 10 | palauig\n",
      "Processing Record 16 of Set 10 | kulunda\n",
      "Processing Record 17 of Set 10 | tadine\n",
      "Processing Record 18 of Set 10 | portland\n",
      "Processing Record 19 of Set 10 | springbok\n",
      "Processing Record 20 of Set 10 | chateaubelair\n",
      "Processing Record 21 of Set 10 | hals\n",
      "Processing Record 22 of Set 10 | faya\n",
      "Processing Record 23 of Set 10 | celestun\n",
      "Processing Record 24 of Set 10 | lovington\n",
      "Processing Record 25 of Set 10 | havre-saint-pierre\n",
      "City not found. Skipping...\n",
      "Processing Record 26 of Set 10 | maba\n",
      "Processing Record 27 of Set 10 | salinopolis\n",
      "Processing Record 28 of Set 10 | pevek\n",
      "Processing Record 29 of Set 10 | camocim\n",
      "Processing Record 30 of Set 10 | solnechnyy\n",
      "Processing Record 31 of Set 10 | qostanay\n",
      "Processing Record 32 of Set 10 | mahebourg\n",
      "Processing Record 33 of Set 10 | karema\n",
      "Processing Record 34 of Set 10 | aksarka\n",
      "Processing Record 35 of Set 10 | chlorakas\n",
      "Processing Record 36 of Set 10 | blackwater\n",
      "City not found. Skipping...\n",
      "Processing Record 37 of Set 10 | buraydah\n",
      "City not found. Skipping...\n",
      "Processing Record 38 of Set 10 | penzance\n",
      "Processing Record 39 of Set 10 | mecca\n",
      "Processing Record 40 of Set 10 | talara\n",
      "Processing Record 41 of Set 10 | pozoblanco\n",
      "Processing Record 42 of Set 10 | hualmay\n",
      "Processing Record 43 of Set 10 | iskateley\n",
      "Processing Record 44 of Set 10 | zabol\n",
      "Processing Record 45 of Set 10 | anan\n",
      "Processing Record 46 of Set 10 | ostrovnoy\n",
      "Processing Record 47 of Set 10 | kajaani\n",
      "Processing Record 48 of Set 10 | soe\n",
      "Processing Record 49 of Set 10 | kungurtug\n",
      "Processing Record 1 of Set 11 | muros\n",
      "Processing Record 2 of Set 11 | hunchun\n",
      "Processing Record 3 of Set 11 | pouembout\n",
      "City not found. Skipping...\n",
      "Processing Record 4 of Set 11 | tabora\n",
      "Processing Record 5 of Set 11 | dauphin\n",
      "Processing Record 6 of Set 11 | maneadero\n",
      "Processing Record 7 of Set 11 | yomou\n",
      "Processing Record 8 of Set 11 | calatayud\n",
      "Processing Record 9 of Set 11 | udachnyy\n",
      "Processing Record 10 of Set 11 | disna\n",
      "Processing Record 11 of Set 11 | trois-rivieres\n",
      "Processing Record 12 of Set 11 | polovinnoye\n",
      "Processing Record 13 of Set 11 | port shepstone\n",
      "Processing Record 14 of Set 11 | tonantins\n",
      "Processing Record 15 of Set 11 | esperance\n",
      "Processing Record 16 of Set 11 | boende\n",
      "Processing Record 17 of Set 11 | adeje\n",
      "Processing Record 18 of Set 11 | comodoro rivadavia\n",
      "Processing Record 19 of Set 11 | necochea\n",
      "Processing Record 20 of Set 11 | bixby\n",
      "City not found. Skipping...\n",
      "Processing Record 21 of Set 11 | mareeba\n",
      "City not found. Skipping...\n",
      "Processing Record 22 of Set 11 | floro\n",
      "Processing Record 23 of Set 11 | chimichagua\n",
      "Processing Record 24 of Set 11 | hokitika\n",
      "Processing Record 25 of Set 11 | rochegda\n",
      "Processing Record 26 of Set 11 | saint-louis\n",
      "Processing Record 27 of Set 11 | shar\n",
      "Processing Record 28 of Set 11 | sakaiminato\n",
      "Processing Record 29 of Set 11 | ushtobe\n",
      "City not found. Skipping...\n",
      "Processing Record 30 of Set 11 | senneterre\n",
      "Processing Record 31 of Set 11 | makasar\n",
      "Processing Record 32 of Set 11 | iracoubo\n",
      "Processing Record 33 of Set 11 | atar\n",
      "Processing Record 34 of Set 11 | phan rang\n",
      "Processing Record 35 of Set 11 | okhotsk\n",
      "Processing Record 36 of Set 11 | bilma\n",
      "Processing Record 37 of Set 11 | shabo\n",
      "Processing Record 38 of Set 11 | lieksa\n",
      "Processing Record 39 of Set 11 | banda aceh\n",
      "Processing Record 40 of Set 11 | greenville\n",
      "Processing Record 41 of Set 11 | skibbereen\n",
      "Processing Record 42 of Set 11 | carauari\n",
      "City not found. Skipping...\n",
      "Processing Record 43 of Set 11 | saposoa\n",
      "Processing Record 44 of Set 11 | majene\n",
      "Processing Record 45 of Set 11 | barcelos\n",
      "Processing Record 46 of Set 11 | khandyga\n",
      "Processing Record 47 of Set 11 | winnemucca\n",
      "Processing Record 48 of Set 11 | fuxin\n",
      "City not found. Skipping...\n",
      "Processing Record 49 of Set 11 | novoagansk\n",
      "Processing Record 1 of Set 12 | prince rupert\n",
      "Processing Record 2 of Set 12 | pringsewu\n",
      "Processing Record 3 of Set 12 | berezovyy\n",
      "Processing Record 4 of Set 12 | roberto payan\n",
      "Processing Record 5 of Set 12 | jishui\n",
      "Processing Record 6 of Set 12 | aksha\n",
      "City not found. Skipping...\n",
      "Processing Record 7 of Set 12 | bollnas\n",
      "Processing Record 8 of Set 12 | high level\n",
      "Processing Record 9 of Set 12 | norrtalje\n",
      "Processing Record 10 of Set 12 | dingle\n",
      "Processing Record 11 of Set 12 | bougouni\n",
      "Processing Record 12 of Set 12 | darhan\n",
      "Processing Record 13 of Set 12 | tabas\n",
      "Processing Record 14 of Set 12 | mahanoro\n",
      "Processing Record 15 of Set 12 | milton\n",
      "City not found. Skipping...\n",
      "Processing Record 16 of Set 12 | panguna\n",
      "Processing Record 17 of Set 12 | lubumbashi\n",
      "Processing Record 18 of Set 12 | hornepayne\n",
      "Processing Record 19 of Set 12 | shakiso\n",
      "Processing Record 20 of Set 12 | kilifi\n",
      "Processing Record 21 of Set 12 | pimentel\n"
     ]
    },
    {
     "name": "stdout",
     "output_type": "stream",
     "text": [
      "Processing Record 22 of Set 12 | tautira\n",
      "Processing Record 23 of Set 12 | liverpool\n",
      "Processing Record 24 of Set 12 | kota\n",
      "Processing Record 25 of Set 12 | semenivka\n",
      "Processing Record 26 of Set 12 | mandalgovi\n",
      "Processing Record 27 of Set 12 | merignac\n",
      "Processing Record 28 of Set 12 | coos bay\n",
      "City not found. Skipping...\n",
      "Processing Record 29 of Set 12 | jalpa\n",
      "Processing Record 30 of Set 12 | tiznit\n"
     ]
    }
   ],
   "source": [
    "# Print start of data retrieval\n",
    "print(f\"Beginning Data Retrieval\")\n",
    "print(f\"-------------------------------\")\n",
    "\n",
    "for city in cities:\n",
    "    try:\n",
    "        response = requests.get(url + city.replace(\" \",\"&\")).json()\n",
    "        Cloudiness.append(response['clouds']['all'])\n",
    "        Country.append(response['sys']['country'])\n",
    "        Date.append(response['dt'])\n",
    "        Humidity.append(response['main']['humidity'])\n",
    "        Lat.append(response['coord']['lat'])\n",
    "        Lng.append(response['coord']['lon'])\n",
    "        Max_Temp.append(response['main']['temp_max'])\n",
    "        Wind_Speed.append(response['wind']['speed'])\n",
    "        if count_one > 48:\n",
    "            count_one = 1\n",
    "            set_one += 1\n",
    "            City_one.append(city)\n",
    "        else:\n",
    "            count_one += 1\n",
    "            City_one.append(city)\n",
    "        # Wait\n",
    "        time.sleep(1)\n",
    "        print(f\"Processing Record {count_one} of Set {set_one} | {city}\")\n",
    "    except Exception:\n",
    "        print(\"City not found. Skipping...\")\n"
   ]
  },
  {
   "cell_type": "code",
   "execution_count": 9,
   "metadata": {},
   "outputs": [],
   "source": [
    "# Convert raw data to dataframe, export city data into a CSV and display dataframe\n",
    "weather_dictionary = {\n",
    "    \"City\":City_one,\n",
    "    \"Lat\":Lat,\n",
    "    \"Lng\":Lng,\n",
    "    \"Max Temp\":Max_Temp,\n",
    "    \"Humidity\":Humidity,\n",
    "    \"Cloudiness\":Cloudiness,\n",
    "    \"Wind Speed\":Wind_Speed,\n",
    "    \"Country\":Country,\n",
    "    \"Date\":Date\n",
    "}\n"
   ]
  },
  {
   "cell_type": "code",
   "execution_count": 10,
   "metadata": {},
   "outputs": [
    {
     "data": {
      "text/html": [
       "<div>\n",
       "<style scoped>\n",
       "    .dataframe tbody tr th:only-of-type {\n",
       "        vertical-align: middle;\n",
       "    }\n",
       "\n",
       "    .dataframe tbody tr th {\n",
       "        vertical-align: top;\n",
       "    }\n",
       "\n",
       "    .dataframe thead th {\n",
       "        text-align: right;\n",
       "    }\n",
       "</style>\n",
       "<table border=\"1\" class=\"dataframe\">\n",
       "  <thead>\n",
       "    <tr style=\"text-align: right;\">\n",
       "      <th></th>\n",
       "      <th>City</th>\n",
       "      <th>Lat</th>\n",
       "      <th>Lng</th>\n",
       "      <th>Max Temp</th>\n",
       "      <th>Humidity</th>\n",
       "      <th>Cloudiness</th>\n",
       "      <th>Wind Speed</th>\n",
       "      <th>Country</th>\n",
       "      <th>Date</th>\n",
       "    </tr>\n",
       "  </thead>\n",
       "  <tbody>\n",
       "    <tr>\n",
       "      <th>0</th>\n",
       "      <td>tasiilaq</td>\n",
       "      <td>65.6145</td>\n",
       "      <td>-37.6368</td>\n",
       "      <td>28.40</td>\n",
       "      <td>93</td>\n",
       "      <td>75</td>\n",
       "      <td>18.41</td>\n",
       "      <td>GL</td>\n",
       "      <td>1620782037</td>\n",
       "    </tr>\n",
       "    <tr>\n",
       "      <th>1</th>\n",
       "      <td>mount gambier</td>\n",
       "      <td>53.6597</td>\n",
       "      <td>-1.8537</td>\n",
       "      <td>43.00</td>\n",
       "      <td>96</td>\n",
       "      <td>56</td>\n",
       "      <td>2.33</td>\n",
       "      <td>GB</td>\n",
       "      <td>1620782608</td>\n",
       "    </tr>\n",
       "    <tr>\n",
       "      <th>2</th>\n",
       "      <td>alice springs</td>\n",
       "      <td>27.7523</td>\n",
       "      <td>-98.0697</td>\n",
       "      <td>84.20</td>\n",
       "      <td>78</td>\n",
       "      <td>40</td>\n",
       "      <td>14.97</td>\n",
       "      <td>US</td>\n",
       "      <td>1620782609</td>\n",
       "    </tr>\n",
       "    <tr>\n",
       "      <th>3</th>\n",
       "      <td>cidreira</td>\n",
       "      <td>-30.1811</td>\n",
       "      <td>-50.2056</td>\n",
       "      <td>58.33</td>\n",
       "      <td>71</td>\n",
       "      <td>100</td>\n",
       "      <td>8.21</td>\n",
       "      <td>BR</td>\n",
       "      <td>1620782063</td>\n",
       "    </tr>\n",
       "    <tr>\n",
       "      <th>4</th>\n",
       "      <td>beringovskiy</td>\n",
       "      <td>63.0500</td>\n",
       "      <td>179.3167</td>\n",
       "      <td>32.16</td>\n",
       "      <td>99</td>\n",
       "      <td>100</td>\n",
       "      <td>3.29</td>\n",
       "      <td>RU</td>\n",
       "      <td>1620782026</td>\n",
       "    </tr>\n",
       "  </tbody>\n",
       "</table>\n",
       "</div>"
      ],
      "text/plain": [
       "            City      Lat       Lng  Max Temp  Humidity  Cloudiness  \\\n",
       "0       tasiilaq  65.6145  -37.6368     28.40        93          75   \n",
       "1  mount gambier  53.6597   -1.8537     43.00        96          56   \n",
       "2  alice springs  27.7523  -98.0697     84.20        78          40   \n",
       "3       cidreira -30.1811  -50.2056     58.33        71         100   \n",
       "4   beringovskiy  63.0500  179.3167     32.16        99         100   \n",
       "\n",
       "   Wind Speed Country        Date  \n",
       "0       18.41      GL  1620782037  \n",
       "1        2.33      GB  1620782608  \n",
       "2       14.97      US  1620782609  \n",
       "3        8.21      BR  1620782063  \n",
       "4        3.29      RU  1620782026  "
      ]
     },
     "execution_count": 10,
     "metadata": {},
     "output_type": "execute_result"
    }
   ],
   "source": [
    "# Creating the dataframe\n",
    "weather_df = pd.DataFrame(weather_dictionary)\n",
    "weather_df.head()"
   ]
  },
  {
   "cell_type": "code",
   "execution_count": 11,
   "metadata": {},
   "outputs": [],
   "source": [
    "# Output to csv file\n",
    "weather_df.to_csv('output_cities_file.csv')"
   ]
  },
  {
   "cell_type": "code",
   "execution_count": 12,
   "metadata": {},
   "outputs": [],
   "source": [
    "#  Get the indices of cities that have humidity over 100%.\n",
    "\n"
   ]
  },
  {
   "cell_type": "code",
   "execution_count": 13,
   "metadata": {},
   "outputs": [],
   "source": [
    "# Make a new DataFrame equal to the city data to drop all humidity outliers by index.\n",
    "# Passing \"inplace=False\" will make a copy of the city_data DataFrame, which we call \"clean_city_data\".\n"
   ]
  },
  {
   "cell_type": "code",
   "execution_count": null,
   "metadata": {},
   "outputs": [],
   "source": [
    "\n"
   ]
  },
  {
   "cell_type": "markdown",
   "metadata": {},
   "source": [
    "## Plotting the Data\n",
    "* Use proper labeling of the plots using plot titles (including date of analysis) and axes labels.\n",
    "* Save the plotted figures as .pngs."
   ]
  },
  {
   "cell_type": "markdown",
   "metadata": {},
   "source": [
    "## Latitude vs. Temperature Plot"
   ]
  },
  {
   "cell_type": "markdown",
   "metadata": {},
   "source": [
    "Latitude vs. Temperature Plot Observations\n",
    "\n",
    "This scatter plot maps city max temperatures against their latitudes. Cities are selected randomly. Cities that are located near the equator(0) show temperatures gradually increasing and then going down from there. "
   ]
  },
  {
   "cell_type": "code",
   "execution_count": 19,
   "metadata": {},
   "outputs": [
    {
     "data": {
      "image/png": "[encoded data removed]",
      "text/plain": [
       "<Figure size 432x288 with 1 Axes>"
      ]
     },
     "metadata": {
      "needs_background": "light"
     },
     "output_type": "display_data"
    }
   ],
   "source": [
    "plt.scatter(weather_df[\"Lat\"],weather_df[\"Max Temp\"],edgecolors=\"black\",facecolors=\"azure\")\n",
    "plt.title(\"City Latitude vs. Max Temperature (04/01/20)\")\n",
    "plt.xlabel(\"Latitude\")\n",
    "plt.ylabel(\"Max Temperature (F)\")\n",
    "plt.grid (b=True,which=\"major\",axis=\"both\",linestyle=\"-\",color=\"lightgrey\")\n",
    "plt.savefig(\"Lat vs. Temp Plot.png\")\n",
    "plt.show()"
   ]
  },
  {
   "cell_type": "markdown",
   "metadata": {},
   "source": [
    "## Latitude vs. Humidity Plot"
   ]
  },
  {
   "cell_type": "markdown",
   "metadata": {},
   "source": [
    "Latitude vs. Humidity Plot Observations\n",
    "\n",
    "This scatter plot maps city latitudes versus humidity. Again the cities are selected randomly. There seems to be no correlation at all here."
   ]
  },
  {
   "cell_type": "code",
   "execution_count": 15,
   "metadata": {},
   "outputs": [
    {
     "data": {
      "image/png": "[encoded data removed]",
      "text/plain": [
       "<Figure size 432x288 with 1 Axes>"
      ]
     },
     "metadata": {
      "needs_background": "light"
     },
     "output_type": "display_data"
    }
   ],
   "source": [
    "plt.scatter(weather_df[\"Lat\"],weather_df[\"Humidity\"],edgecolors=\"black\",facecolors=\"azure\")\n",
    "plt.title(\"City Latitude vs. Humidity (04/01/20)\")\n",
    "plt.xlabel(\"Latitude\")\n",
    "plt.ylabel(\"Humidity (%)\")\n",
    "plt.ylim(15,105)\n",
    "plt.grid (b=True,which=\"major\",axis=\"both\",linestyle=\"-\",color=\"lightgrey\")\n",
    "plt.savefig(\"Lat vs. Humidity Plot.png\")\n",
    "plt.show()"
   ]
  },
  {
   "cell_type": "markdown",
   "metadata": {},
   "source": [
    "## Latitude vs. Cloudiness Plot"
   ]
  },
  {
   "cell_type": "markdown",
   "metadata": {},
   "source": [
    "Latitude vs. Cloudiness Plot Observations\n",
    "\n",
    "This scatter plot shows cities' cloudiness against their latitude. The cities are selected randomly again. There is no particular correlation between cloudiness and latitude. You can see though that the cloudiness percentages seem to be located around the 10s lines."
   ]
  },
  {
   "cell_type": "code",
   "execution_count": 16,
   "metadata": {},
   "outputs": [
    {
     "data": {
      "image/png": "[encoded data removed]",
      "text/plain": [
       "<Figure size 432x288 with 1 Axes>"
      ]
     },
     "metadata": {
      "needs_background": "light"
     },
     "output_type": "display_data"
    }
   ],
   "source": [
    "plt.scatter(weather_df[\"Lat\"],weather_df[\"Cloudiness\"],edgecolors=\"black\",facecolors=\"azure\")\n",
    "plt.title(\"City Latitude vs. Cloudiness (04/01/20)\")\n",
    "plt.xlabel(\"Latitude\")\n",
    "plt.ylabel(\"Cloudiness (%)\")\n",
    "plt.grid (b=True,which=\"major\",axis=\"both\",linestyle=\"-\",color=\"lightgrey\")\n",
    "plt.savefig(\"Lat vs. Cloudiness Plot.png\")\n",
    "plt.show()"
   ]
  },
  {
   "cell_type": "markdown",
   "metadata": {},
   "source": [
    "## Latitude vs. Wind Speed Plot"
   ]
  },
  {
   "cell_type": "markdown",
   "metadata": {},
   "source": [
    "Latitude vs. Wind Speed Observations\n",
    "\n",
    "This scatter plot shows cities' latitudes versus wind speed. The cities are selected randomly. There is no particular correlation in the data."
   ]
  },
  {
   "cell_type": "code",
   "execution_count": 17,
   "metadata": {},
   "outputs": [
    {
     "data": {
      "image/png": "[encoded data removed]",
      "text/plain": [
       "<Figure size 432x288 with 1 Axes>"
      ]
     },
     "metadata": {
      "needs_background": "light"
     },
     "output_type": "display_data"
    }
   ],
   "source": [
    "plt.scatter(weather_df[\"Lat\"],weather_df[\"Wind Speed\"],edgecolors=\"black\",facecolors=\"azure\")\n",
    "plt.title(\"City Latitude vs. Wind Speed (04/01/20)\")\n",
    "plt.xlabel(\"Latitude\")\n",
    "plt.ylabel(\"Wind Speed (mph)\")\n",
    "plt.ylim(-2,34)\n",
    "plt.grid (b=True,which=\"major\",axis=\"both\",linestyle=\"-\",color=\"lightgrey\")\n",
    "plt.savefig(\"Lat vs. Wind Speed PLot.png\")\n",
    "plt.show()"
   ]
  },
  {
   "cell_type": "markdown",
   "metadata": {},
   "source": [
    "## Linear Regression"
   ]
  },
  {
   "cell_type": "code",
   "execution_count": 20,
   "metadata": {},
   "outputs": [],
   "source": [
    "def linearRegression(x_values,y_values,regEQplotX,regEQplotY,y_label):\n",
    "    (slope, intercept, rvalue, pvalue, stderr) = linregress(x_values, y_values)\n",
    "    regress_values = x_values * slope + intercept\n",
    "    line_eq = \"y = \" + str(round(slope,2)) + \"x + \" + str(round(intercept,2))\n",
    "    plt.scatter(x_values,y_values)\n",
    "    plt.plot(x_values,regress_values,\"r-\")\n",
    "    print(f'The r-square is {rvalue}')\n",
    "    print(line_eq)\n",
    "    plt.annotate(line_eq,(regEQplotX,regEQplotY),fontsize=15,color=\"red\")\n",
    "    plt.xlabel('Latitude')\n",
    "    plt.ylabel(f'{y_label}')\n",
    "    plt.grid()"
   ]
  },
  {
   "cell_type": "code",
   "execution_count": 24,
   "metadata": {},
   "outputs": [],
   "source": [
    "# Defining the Northern and Southern Hemispheres dataframes\n",
    "northern_df = weather_df.loc[weather_df[\"Lat\"] > 0]\n",
    "southern_df = weather_df.loc[weather_df[\"Lat\"] < 0]"
   ]
  },
  {
   "cell_type": "markdown",
   "metadata": {},
   "source": [
    "####  Northern Hemisphere - Max Temp vs. Latitude Linear Regression"
   ]
  },
  {
   "cell_type": "code",
   "execution_count": 28,
   "metadata": {},
   "outputs": [
    {
     "name": "stdout",
     "output_type": "stream",
     "text": [
      "The r-square is -0.8683160553557836\n",
      "y = -0.8x + 91.54\n"
     ]
    },
    {
     "data": {
      "image/png": "[encoded data removed]",
      "text/plain": [
       "<Figure size 432x288 with 1 Axes>"
      ]
     },
     "metadata": {
      "needs_background": "light"
     },
     "output_type": "display_data"
    }
   ],
   "source": [
    "# Set variables\n",
    "x_values = northern_df[\"Lat\"]\n",
    "y_values = northern_df[\"Max Temp\"]\n",
    "# # Equation placements\n",
    "regEQplotX = 0\n",
    "regEQplotY = 20\n",
    "# Label for y axis\n",
    "y_label = \"Max Temp\"\n",
    "# Label the title\n",
    "plt.title(f'Northern Hemisphere - Max Temp vs. Latitude Linear Regression')\n",
    "# Running function on variables\n",
    "linearRegression(x_values,y_values,regEQplotX,regEQplotY,y_label)\n",
    "# Output the file\n",
    "plt.savefig(f'Northern Hemisphere - Max Temp vs. Latitude Linear Regression.png')\n",
    "plt.show()"
   ]
  },
  {
   "cell_type": "markdown",
   "metadata": {},
   "source": [
    "####  Southern Hemisphere - Max Temp vs. Latitude Linear Regression"
   ]
  },
  {
   "cell_type": "code",
   "execution_count": 30,
   "metadata": {},
   "outputs": [
    {
     "name": "stdout",
     "output_type": "stream",
     "text": [
      "The r-square is 0.6853578824372748\n",
      "y = 0.58x + 78.57\n"
     ]
    },
    {
     "data": {
      "image/png": "[encoded data removed]",
      "text/plain": [
       "<Figure size 432x288 with 1 Axes>"
      ]
     },
     "metadata": {
      "needs_background": "light"
     },
     "output_type": "display_data"
    }
   ],
   "source": [
    "x_values = southern_df[\"Lat\"]\n",
    "y_values = southern_df[\"Max Temp\"]\n",
    "regEQplotX = -50\n",
    "regEQplotY = 80\n",
    "y_label = \"Temperature (F)\"\n",
    "plt.title(f'Southern Hemisphere - Max Temp vs. Latitude Linear Regression')\n",
    "linearRegression(x_values,y_values,regEQplotX,regEQplotY,y_label)\n",
    "plt.savefig(f'Southern Hemisphere - Max Temp vs. Latitude Linear Regression.png')\n",
    "plt.show()"
   ]
  },
  {
   "cell_type": "markdown",
   "metadata": {},
   "source": [
    "####  Northern Hemisphere - Humidity (%) vs. Latitude Linear Regression"
   ]
  },
  {
   "cell_type": "code",
   "execution_count": 32,
   "metadata": {},
   "outputs": [
    {
     "name": "stdout",
     "output_type": "stream",
     "text": [
      "The r-square is 0.09605366188731951\n",
      "y = 0.12x + 64.43\n"
     ]
    },
    {
     "data": {
      "image/png": "[encoded data removed]",
      "text/plain": [
       "<Figure size 432x288 with 1 Axes>"
      ]
     },
     "metadata": {
      "needs_background": "light"
     },
     "output_type": "display_data"
    }
   ],
   "source": [
    "x_values = northern_df[\"Lat\"]\n",
    "y_values = northern_df[\"Humidity\"]\n",
    "regEQplotX = 45\n",
    "regEQplotY = 10\n",
    "y_label = \"Humidity (%)\"\n",
    "plt.title(f'Northern Hemisphere - Humidity (%) vs. Latitude Linear Regression')\n",
    "linearRegression(x_values,y_values,regEQplotX,regEQplotY,y_label)\n",
    "plt.savefig(f'Northern Hemisphere - Humidity (%) vs. Latitude Linear Regression.png')\n",
    "plt.show()"
   ]
  },
  {
   "cell_type": "markdown",
   "metadata": {},
   "source": [
    "####  Southern Hemisphere - Humidity (%) vs. Latitude Linear Regression"
   ]
  },
  {
   "cell_type": "code",
   "execution_count": 36,
   "metadata": {},
   "outputs": [
    {
     "name": "stdout",
     "output_type": "stream",
     "text": [
      "The r-square is 0.31023808571102385\n",
      "y = 0.39x + 81.68\n"
     ]
    },
    {
     "data": {
      "image/png": "[encoded data removed]",
      "text/plain": [
       "<Figure size 432x288 with 1 Axes>"
      ]
     },
     "metadata": {
      "needs_background": "light"
     },
     "output_type": "display_data"
    }
   ],
   "source": [
    "x_values = southern_df[\"Lat\"]\n",
    "y_values = southern_df[\"Humidity\"]\n",
    "regEQplotX = -55\n",
    "regEQplotY = 25\n",
    "y_label = \"Humidity (%)\"\n",
    "plt.title(f'Southern Hemisphere - Humidity (%) vs. Latitude Linear Regression')\n",
    "linearRegression(x_values,y_values,regEQplotX,regEQplotY,y_label)\n",
    "plt.savefig(f'Southern Hemisphere - Humidity (%) vs. Latitude Linear Regression.png')\n",
    "plt.show()"
   ]
  },
  {
   "cell_type": "markdown",
   "metadata": {},
   "source": [
    "####  Northern Hemisphere - Cloudiness (%) vs. Latitude Linear Regression"
   ]
  },
  {
   "cell_type": "code",
   "execution_count": null,
   "metadata": {},
   "outputs": [],
   "source": []
  },
  {
   "cell_type": "markdown",
   "metadata": {},
   "source": [
    "####  Southern Hemisphere - Cloudiness (%) vs. Latitude Linear Regression"
   ]
  },
  {
   "cell_type": "code",
   "execution_count": null,
   "metadata": {},
   "outputs": [],
   "source": []
  },
  {
   "cell_type": "markdown",
   "metadata": {},
   "source": [
    "####  Northern Hemisphere - Wind Speed (mph) vs. Latitude Linear Regression"
   ]
  },
  {
   "cell_type": "code",
   "execution_count": null,
   "metadata": {},
   "outputs": [],
   "source": []
  },
  {
   "cell_type": "markdown",
   "metadata": {},
   "source": [
    "####  Southern Hemisphere - Wind Speed (mph) vs. Latitude Linear Regression"
   ]
  },
  {
   "cell_type": "code",
   "execution_count": null,
   "metadata": {},
   "outputs": [],
   "source": []
  },
  {
   "cell_type": "code",
   "execution_count": null,
   "metadata": {},
   "outputs": [],
   "source": []
  }
 ],
 "metadata": {
  "anaconda-cloud": {},
  "kernel_info": {
   "name": "python3"
  },
  "kernelspec": {
   "display_name": "Python 3",
   "language": "python",
   "name": "python3"
  },
  "language_info": {
   "codemirror_mode": {
    "name": "ipython",
    "version": 3
   },
   "file_extension": ".py",
   "mimetype": "text/x-python",
   "name": "python",
   "nbconvert_exporter": "python",
   "pygments_lexer": "ipython3",
   "version": "3.8.5"
  },
  "latex_envs": {
   "LaTeX_envs_menu_present": true,
   "autoclose": false,
   "autocomplete": true,
   "bibliofile": "biblio.bib",
   "cite_by": "apalike",
   "current_citInitial": 1,
   "eqLabelWithNumbers": true,
   "eqNumInitial": 1,
   "hotkeys": {
    "equation": "Ctrl-E",
    "itemize": "Ctrl-I"
   },
   "labels_anchors": false,
   "latex_user_defs": false,
   "report_style_numbering": false,
   "user_envs_cfg": false
  },
  "nteract": {
   "version": "0.12.3"
  }
 },
 "nbformat": 4,
 "nbformat_minor": 2
}
